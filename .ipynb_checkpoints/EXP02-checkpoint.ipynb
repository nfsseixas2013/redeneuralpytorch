{
 "cells": [
  {
   "cell_type": "code",
   "execution_count": 1,
   "id": "f7d23bb7",
   "metadata": {},
   "outputs": [],
   "source": [
    "import pandas as pd\n",
    "from sklearn.preprocessing import LabelEncoder\n",
    "import numpy as np"
   ]
  },
  {
   "cell_type": "code",
   "execution_count": 2,
   "id": "c6246c11",
   "metadata": {},
   "outputs": [],
   "source": [
    "import gym\n",
    "from gym import spaces\n",
    "import random\n",
    "from collections import deque, defaultdict"
   ]
  },
  {
   "cell_type": "code",
   "execution_count": 3,
   "id": "f8939cd7",
   "metadata": {},
   "outputs": [],
   "source": [
    "# Load the dataset\n",
    "file_path1 = \"datasets/v2/v2_datasets-corrigido/dataset_normal.csv\"\n",
    "file_path2 = \"datasets/v2/v2_datasets-corrigido/dataset_poisoned.csv\""
   ]
  },
  {
   "cell_type": "code",
   "execution_count": 4,
   "id": "3176ca92",
   "metadata": {},
   "outputs": [],
   "source": [
    "data1 = pd.read_csv(file_path1)\n",
    "data2 = pd.read_csv(file_path2)"
   ]
  },
  {
   "cell_type": "code",
   "execution_count": 5,
   "id": "00f2e224",
   "metadata": {},
   "outputs": [],
   "source": [
    "def preprocess_data(df):\n",
    "    # Convert 'Weapon Detected' to binary (1 for 'Yes', 0 for 'No')\n",
    "    #df['Weapon Detected'] = df['Weapon Detected'].apply(lambda x: 1 if x == 'Yes' else 0)\n",
    "\n",
    "    # Encode 'Timestamp' using LabelEncoder\n",
    "    label_encoder = LabelEncoder()\n",
    "    df['Hour'] = label_encoder.fit_transform(df['Hour'])\n",
    "    \n",
    "    week_label = LabelEncoder()\n",
    "    df['Weekday/Weekend'] = week_label.fit_transform(df['Weekday/Weekend'])\n",
    "\n",
    "    # Extract state and action data\n",
    "    state_data = df[['Hour', 'Presence Detector', 'Face Recognition', 'Weapon Recognition']].values\n",
    "    actions = df['Action'].values\n",
    "    \n",
    "    return state_data, actions"
   ]
  },
  {
   "cell_type": "code",
   "execution_count": 6,
   "id": "d86d1738",
   "metadata": {},
   "outputs": [],
   "source": [
    "# Preprocess the dataset\n",
    "state_data_N, actions_N = preprocess_data(data1)"
   ]
  },
  {
   "cell_type": "code",
   "execution_count": 7,
   "id": "3f21e74c",
   "metadata": {},
   "outputs": [
    {
     "data": {
      "text/plain": [
       "array([[  0,   0,   0,   0],\n",
       "       [  1,   0,   0,   0],\n",
       "       [  2,   0,   0,   0],\n",
       "       ...,\n",
       "       [141,   1,   4,   0],\n",
       "       [142,   1,   4,   0],\n",
       "       [143,   1,   4,   0]])"
      ]
     },
     "execution_count": 7,
     "metadata": {},
     "output_type": "execute_result"
    }
   ],
   "source": [
    "state_data_N"
   ]
  },
  {
   "cell_type": "code",
   "execution_count": 8,
   "id": "39272937",
   "metadata": {},
   "outputs": [
    {
     "data": {
      "text/plain": [
       "array([0, 0, 0, ..., 0, 0, 0])"
      ]
     },
     "execution_count": 8,
     "metadata": {},
     "output_type": "execute_result"
    }
   ],
   "source": [
    "actions_N"
   ]
  },
  {
   "cell_type": "code",
   "execution_count": 9,
   "id": "4e4b49e4",
   "metadata": {},
   "outputs": [],
   "source": [
    "# Preprocess the dataset\n",
    "state_data_P, actions_P = preprocess_data(data2)"
   ]
  },
  {
   "cell_type": "code",
   "execution_count": 10,
   "id": "76b48af1",
   "metadata": {},
   "outputs": [
    {
     "data": {
      "text/plain": [
       "array([[  0,   0,   0,   0],\n",
       "       [  1,   0,   0,   0],\n",
       "       [  2,   0,   0,   0],\n",
       "       ...,\n",
       "       [141,   1,   4,   0],\n",
       "       [142,   1,   4,   0],\n",
       "       [143,   1,   4,   0]])"
      ]
     },
     "execution_count": 10,
     "metadata": {},
     "output_type": "execute_result"
    }
   ],
   "source": [
    "state_data_P"
   ]
  },
  {
   "cell_type": "code",
   "execution_count": 11,
   "id": "7ff7e1ff",
   "metadata": {},
   "outputs": [],
   "source": [
    "class RealTimeEnvironment(gym.Env):\n",
    "    def __init__(self, state_data_N, actions_N, state_data_P, actions_P):\n",
    "        super(RealTimeEnvironment, self).__init__()\n",
    "        self.state_data_N = state_data_N\n",
    "        self.actions_data_N = actions_N\n",
    "        self.state_data_P = state_data_P\n",
    "        self.actions_data_P = actions_P\n",
    "        self.current_step = 0\n",
    "\n",
    "        # Define observation space (4 features: Timestamp, Presence Sensor, Persons Recognized, Weapon Detected)\n",
    "        self.observation_space = spaces.Box(low=0, high=1, shape=(4,), dtype=np.float32)\n",
    "        \n",
    "        # Action space: 2 actions (0: do nothing, 2: inform owner and police)\n",
    "        self.action_space = spaces.Discrete(2)\n",
    "        \n",
    "    def reset_N(self):\n",
    "        self.current_step = 0\n",
    "        return self.state_data_N[self.current_step]\n",
    "    \n",
    "    def reset_P(self):\n",
    "        self.current_step = 0\n",
    "        return self.state_data_P[self.current_step]\n",
    "\n",
    "    def step_N(self, action):\n",
    "        correct_action = self.actions_data_N[self.current_step]\n",
    "        reward = 1 if (action * 2) == correct_action else -1\n",
    "        \n",
    "        # Move to the next step\n",
    "        self.current_step += 1\n",
    "        done = self.current_step >= len(self.state_data_N)\n",
    "        \n",
    "        # Get the next state\n",
    "        if not done:\n",
    "            next_state = self.state_data_N[self.current_step]\n",
    "        else:\n",
    "            next_state = np.zeros(self.state_data_N.shape[1])\n",
    "        \n",
    "        return next_state, reward, done, {}\n",
    "    \n",
    "    def step_P(self, action):\n",
    "        correct_action = self.actions_data_P[self.current_step]\n",
    "        reward = 1 if (action * 2) == correct_action else -1\n",
    "        \n",
    "        # Move to the next step\n",
    "        self.current_step += 1\n",
    "        done = self.current_step >= len(self.state_data_P)\n",
    "        \n",
    "        # Get the next state\n",
    "        if not done:\n",
    "            next_state = self.state_data_P[self.current_step]\n",
    "        else:\n",
    "            next_state = np.zeros(self.state_data_P.shape[1])\n",
    "        \n",
    "        return next_state, reward, done, {}\n",
    "    \n",
    "    def render_N(self):\n",
    "        print(f\"Step: {self.current_step}, State: {self.state_data_N[self.current_step]}\")\n",
    "        \n",
    "    def render_P(self):\n",
    "        print(f\"Step: {self.current_step}, State: {self.state_data_P[self.current_step]}\")"
   ]
  },
  {
   "cell_type": "code",
   "execution_count": 12,
   "id": "660fb581",
   "metadata": {},
   "outputs": [],
   "source": [
    "# Q-Learning parameters\n",
    "learning_rate = 0.1\n",
    "discount_factor = 0.99\n",
    "exploration_rate = 1.0\n",
    "exploration_decay = 0.995\n",
    "exploration_min = 0.01\n",
    "total_episodes = 1000  # Number of episodes for training\n",
    "state_discretizer = (10, 2, 2, 2)  # Tuple representing discrete bins for each state feature"
   ]
  },
  {
   "cell_type": "code",
   "execution_count": 13,
   "id": "2d0725e3",
   "metadata": {},
   "outputs": [],
   "source": [
    "# Initialize the environment\n",
    "env = RealTimeEnvironment(state_data_N, actions_N, state_data_P, actions_P)"
   ]
  },
  {
   "cell_type": "code",
   "execution_count": 14,
   "id": "208af757",
   "metadata": {},
   "outputs": [],
   "source": [
    "# Initialize Q-table using a defaultdict for easy default values\n",
    "q_table = defaultdict(lambda: [0, 0])  # Two actions, initialized to zero"
   ]
  },
  {
   "cell_type": "code",
   "execution_count": 15,
   "id": "65878c99",
   "metadata": {},
   "outputs": [
    {
     "data": {
      "text/plain": [
       "defaultdict(<function __main__.<lambda>()>, {})"
      ]
     },
     "execution_count": 15,
     "metadata": {},
     "output_type": "execute_result"
    }
   ],
   "source": [
    "q_table"
   ]
  },
  {
   "cell_type": "code",
   "execution_count": 16,
   "id": "0699da3e",
   "metadata": {},
   "outputs": [],
   "source": [
    "# Helper function to discretize continuous states\n",
    "def discretize_state(state):\n",
    "    \"\"\"Convert continuous state into a discrete tuple.\"\"\"\n",
    "    return tuple(int(state[i] // (1 / state_discretizer[i])) for i in range(len(state)))"
   ]
  },
  {
   "cell_type": "code",
   "execution_count": 17,
   "id": "c37b0dea",
   "metadata": {},
   "outputs": [],
   "source": [
    "# Metrics for tracking performance\n",
    "reward_history = deque(maxlen=2016)\n",
    "action_accuracy = deque(maxlen=2016)"
   ]
  },
  {
   "cell_type": "code",
   "execution_count": null,
   "id": "89cbf8d9",
   "metadata": {},
   "outputs": [
    {
     "name": "stdout",
     "output_type": "stream",
     "text": [
      "Episode 0: Avg Reward = -126.00, Success Rate = 0.47\n",
      "Episode 10: Avg Reward = -19.45, Success Rate = 0.52\n",
      "Episode 20: Avg Reward = 13.81, Success Rate = 0.51\n",
      "Episode 30: Avg Reward = 82.26, Success Rate = 0.58\n",
      "Episode 40: Avg Reward = 140.88, Success Rate = 0.58\n",
      "Episode 50: Avg Reward = 190.27, Success Rate = 0.60\n",
      "Episode 60: Avg Reward = 242.26, Success Rate = 0.65\n",
      "Episode 70: Avg Reward = 287.04, Success Rate = 0.65\n",
      "Episode 80: Avg Reward = 328.15, Success Rate = 0.66\n",
      "Episode 90: Avg Reward = 366.31, Success Rate = 0.68\n",
      "Episode 100: Avg Reward = 404.38, Success Rate = 0.70\n",
      "Episode 110: Avg Reward = 440.97, Success Rate = 0.72\n",
      "Episode 120: Avg Reward = 476.17, Success Rate = 0.72\n",
      "Episode 130: Avg Reward = 510.92, Success Rate = 0.74\n",
      "Episode 140: Avg Reward = 546.64, Success Rate = 0.75\n",
      "Episode 150: Avg Reward = 578.33, Success Rate = 0.76\n",
      "Episode 160: Avg Reward = 609.76, Success Rate = 0.78\n",
      "Episode 170: Avg Reward = 640.09, Success Rate = 0.79\n",
      "Episode 180: Avg Reward = 669.96, Success Rate = 0.79\n",
      "Episode 190: Avg Reward = 698.20, Success Rate = 0.81\n",
      "Episode 200: Avg Reward = 724.96, Success Rate = 0.80\n",
      "Episode 210: Avg Reward = 751.91, Success Rate = 0.84\n",
      "Episode 220: Avg Reward = 776.35, Success Rate = 0.81\n",
      "Episode 230: Avg Reward = 800.55, Success Rate = 0.83\n",
      "Episode 240: Avg Reward = 824.37, Success Rate = 0.86\n",
      "Episode 250: Avg Reward = 847.90, Success Rate = 0.85\n",
      "Episode 260: Avg Reward = 870.80, Success Rate = 0.87\n",
      "Episode 270: Avg Reward = 893.79, Success Rate = 0.88\n",
      "Episode 280: Avg Reward = 915.10, Success Rate = 0.89\n",
      "Episode 290: Avg Reward = 935.76, Success Rate = 0.88\n",
      "Episode 300: Avg Reward = 956.10, Success Rate = 0.88\n",
      "Episode 310: Avg Reward = 975.19, Success Rate = 0.88\n",
      "Episode 320: Avg Reward = 994.31, Success Rate = 0.90\n",
      "Episode 330: Avg Reward = 1012.95, Success Rate = 0.90\n",
      "Episode 340: Avg Reward = 1030.52, Success Rate = 0.90\n",
      "Episode 350: Avg Reward = 1047.93, Success Rate = 0.92\n",
      "Episode 360: Avg Reward = 1065.20, Success Rate = 0.90\n",
      "Episode 370: Avg Reward = 1081.05, Success Rate = 0.91\n",
      "Episode 380: Avg Reward = 1097.57, Success Rate = 0.93\n",
      "Episode 390: Avg Reward = 1113.09, Success Rate = 0.93\n",
      "Episode 400: Avg Reward = 1128.69, Success Rate = 0.92\n",
      "Episode 410: Avg Reward = 1143.56, Success Rate = 0.93\n",
      "Episode 420: Avg Reward = 1158.19, Success Rate = 0.95\n",
      "Episode 430: Avg Reward = 1172.63, Success Rate = 0.94\n",
      "Episode 440: Avg Reward = 1186.20, Success Rate = 0.94\n",
      "Episode 450: Avg Reward = 1199.58, Success Rate = 0.94\n",
      "Episode 460: Avg Reward = 1212.91, Success Rate = 0.95\n",
      "Episode 470: Avg Reward = 1225.97, Success Rate = 0.96\n",
      "Episode 480: Avg Reward = 1238.47, Success Rate = 0.96\n",
      "Episode 490: Avg Reward = 1250.58, Success Rate = 0.96\n",
      "Episode 500: Avg Reward = 1262.30, Success Rate = 0.96\n",
      "Episode 510: Avg Reward = 1273.82, Success Rate = 0.96\n",
      "Episode 520: Avg Reward = 1285.04, Success Rate = 0.96\n",
      "Episode 530: Avg Reward = 1295.95, Success Rate = 0.96\n",
      "Episode 540: Avg Reward = 1306.57, Success Rate = 0.97\n",
      "Episode 550: Avg Reward = 1317.05, Success Rate = 0.97\n",
      "Episode 560: Avg Reward = 1327.29, Success Rate = 0.97\n"
     ]
    }
   ],
   "source": [
    "# Continuous Q-learning training loop\n",
    "poison = False\n",
    "avg_reward = []\n",
    "suc_rate = []\n",
    "for episode in range(total_episodes):\n",
    "    state = env.reset_N() if poison == False else env.reset_P()\n",
    "    state = discretize_state(state)\n",
    "    done = False\n",
    "    episode_reward = 0\n",
    "\n",
    "    while not done:\n",
    "        # Epsilon-greedy action selection\n",
    "        if random.uniform(0, 1) < exploration_rate:\n",
    "            action = env.action_space.sample()  # Explore\n",
    "        else:\n",
    "            action = np.argmax(q_table[state])  # Exploit the best known action\n",
    "        \n",
    "        # Take the action in the environment\n",
    "        next_state, reward, done, _ = env.step_N(action) if poison == False else env.step_P(action)\n",
    "        next_state = discretize_state(next_state)\n",
    "        \n",
    "        # Update Q-value using Q-learning formula\n",
    "        best_future_q = max(q_table[next_state]) if not done else 0\n",
    "        q_table[state][action] += learning_rate * (reward + discount_factor * best_future_q - q_table[state][action])\n",
    "        \n",
    "        # Update state and metrics\n",
    "        state = next_state\n",
    "        episode_reward += reward\n",
    "        action_accuracy.append(1 if reward == 1 else 0)  # Track if action was correct\n",
    "        \n",
    "    # Track episode reward\n",
    "    reward_history.append(episode_reward)\n",
    "\n",
    "    # Decay exploration rate\n",
    "    exploration_rate = max(exploration_min, exploration_rate * exploration_decay)\n",
    "    \n",
    "    if episode >= 20:\n",
    "        poison = True\n",
    "    \n",
    "    # Output training progress\n",
    "    if episode % 10 == 0:\n",
    "        average_reward = np.mean(reward_history)\n",
    "        success_rate = np.mean(action_accuracy)\n",
    "        avg_reward.append(average_reward)\n",
    "        suc_rate.append(success_rate)\n",
    "        print(f\"Episode {episode}: Avg Reward = {average_reward:.2f}, Success Rate = {success_rate:.2f}\")"
   ]
  },
  {
   "cell_type": "code",
   "execution_count": 28,
   "id": "b2838f03",
   "metadata": {},
   "outputs": [
    {
     "data": {
      "text/plain": [
       "deque([1,\n",
       "       1,\n",
       "       1,\n",
       "       1,\n",
       "       1,\n",
       "       1,\n",
       "       1,\n",
       "       1,\n",
       "       1,\n",
       "       1,\n",
       "       1,\n",
       "       1,\n",
       "       1,\n",
       "       1,\n",
       "       1,\n",
       "       1,\n",
       "       1,\n",
       "       1,\n",
       "       1,\n",
       "       1,\n",
       "       1,\n",
       "       1,\n",
       "       1,\n",
       "       1,\n",
       "       1,\n",
       "       1,\n",
       "       1,\n",
       "       1,\n",
       "       1,\n",
       "       1,\n",
       "       1,\n",
       "       1,\n",
       "       1,\n",
       "       1,\n",
       "       1,\n",
       "       1,\n",
       "       1,\n",
       "       1,\n",
       "       1,\n",
       "       1,\n",
       "       1,\n",
       "       1,\n",
       "       1,\n",
       "       1,\n",
       "       1,\n",
       "       1,\n",
       "       1,\n",
       "       1,\n",
       "       1,\n",
       "       1,\n",
       "       1,\n",
       "       1,\n",
       "       1,\n",
       "       1,\n",
       "       1,\n",
       "       1,\n",
       "       1,\n",
       "       1,\n",
       "       1,\n",
       "       1,\n",
       "       1,\n",
       "       1,\n",
       "       1,\n",
       "       1,\n",
       "       1,\n",
       "       1,\n",
       "       1,\n",
       "       1,\n",
       "       1,\n",
       "       1,\n",
       "       1,\n",
       "       1,\n",
       "       1,\n",
       "       1,\n",
       "       1,\n",
       "       1,\n",
       "       1,\n",
       "       1,\n",
       "       1,\n",
       "       1,\n",
       "       1,\n",
       "       1,\n",
       "       1,\n",
       "       1,\n",
       "       1,\n",
       "       1,\n",
       "       1,\n",
       "       1,\n",
       "       1,\n",
       "       1,\n",
       "       1,\n",
       "       1,\n",
       "       1,\n",
       "       1,\n",
       "       1,\n",
       "       1,\n",
       "       1,\n",
       "       1,\n",
       "       1,\n",
       "       1],\n",
       "      maxlen=100)"
      ]
     },
     "execution_count": 28,
     "metadata": {},
     "output_type": "execute_result"
    }
   ],
   "source": [
    "action_accuracy"
   ]
  },
  {
   "cell_type": "code",
   "execution_count": null,
   "id": "8a59bc78",
   "metadata": {},
   "outputs": [],
   "source": [
    "plt.plot(episodes,avg_reward)\n",
    "plt.xlabel('Episodes')\n",
    "plt.ylabel('Average Reward')\n",
    "plt.legend()\n",
    "plt.savefig(\"Avg_poison.png\")"
   ]
  },
  {
   "cell_type": "code",
   "execution_count": null,
   "id": "a12f56f2",
   "metadata": {},
   "outputs": [],
   "source": []
  }
 ],
 "metadata": {
  "kernelspec": {
   "display_name": "Python 3 (ipykernel)",
   "language": "python",
   "name": "python3"
  },
  "language_info": {
   "codemirror_mode": {
    "name": "ipython",
    "version": 3
   },
   "file_extension": ".py",
   "mimetype": "text/x-python",
   "name": "python",
   "nbconvert_exporter": "python",
   "pygments_lexer": "ipython3",
   "version": "3.8.12"
  }
 },
 "nbformat": 4,
 "nbformat_minor": 5
}
