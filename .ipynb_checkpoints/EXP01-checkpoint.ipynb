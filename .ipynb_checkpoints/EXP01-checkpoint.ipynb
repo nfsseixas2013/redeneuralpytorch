{
 "cells": [
  {
   "cell_type": "code",
   "execution_count": 1,
   "id": "d67382f9",
   "metadata": {},
   "outputs": [],
   "source": [
    "import pandas as pd\n",
    "from sklearn.preprocessing import LabelEncoder\n",
    "import numpy as np"
   ]
  },
  {
   "cell_type": "code",
   "execution_count": 2,
   "id": "e16c6cb1",
   "metadata": {},
   "outputs": [],
   "source": [
    "import gym\n",
    "from gym import spaces\n",
    "import random\n",
    "from collections import deque, defaultdict"
   ]
  },
  {
   "cell_type": "code",
   "execution_count": 3,
   "id": "6d4c9336",
   "metadata": {},
   "outputs": [],
   "source": [
    "# Load the dataset\n",
    "file_path1 = \"datasets/v2/v2_datasets-corrigido/dataset_normal.csv\"\n",
    "file_path2 = \"datasets/v2/v2_datasets-corrigido/dataset_poisoned.csv\""
   ]
  },
  {
   "cell_type": "code",
   "execution_count": 4,
   "id": "2f550623",
   "metadata": {},
   "outputs": [],
   "source": [
    "data1 = pd.read_csv(file_path1)\n",
    "data2 = pd.read_csv(file_path2)"
   ]
  },
  {
   "cell_type": "code",
   "execution_count": 7,
   "id": "0fb8c90e",
   "metadata": {},
   "outputs": [],
   "source": [
    "def preprocess_data(df):\n",
    "    # Convert 'Weapon Detected' to binary (1 for 'Yes', 0 for 'No')\n",
    "    #df['Weapon Detected'] = df['Weapon Detected'].apply(lambda x: 1 if x == 'Yes' else 0)\n",
    "\n",
    "    # Encode 'Timestamp' using LabelEncoder\n",
    "    label_encoder = LabelEncoder()\n",
    "    df['Hour'] = label_encoder.fit_transform(df['Hour'])\n",
    "    \n",
    "    week_label = LabelEncoder()\n",
    "    df['Weekday/Weekend'] = week_label.fit_transform(df['Weekday/Weekend'])\n",
    "\n",
    "    # Extract state and action data\n",
    "    state_data = df[['Hour', 'Presence Detector', 'Face Recognition', 'Weapon Recognition']].values\n",
    "    actions = df['Action'].values\n",
    "    \n",
    "    return state_data, actions"
   ]
  },
  {
   "cell_type": "code",
   "execution_count": 8,
   "id": "2ac6b9d9",
   "metadata": {},
   "outputs": [],
   "source": [
    "# Preprocess the dataset\n",
    "state_data_N, actions_N = preprocess_data(data1)"
   ]
  },
  {
   "cell_type": "code",
   "execution_count": 9,
   "id": "ca5c9e70",
   "metadata": {},
   "outputs": [
    {
     "data": {
      "text/plain": [
       "array([[  0,   0,   0,   0],\n",
       "       [  1,   0,   0,   0],\n",
       "       [  2,   0,   0,   0],\n",
       "       ...,\n",
       "       [141,   1,   4,   0],\n",
       "       [142,   1,   4,   0],\n",
       "       [143,   1,   4,   0]])"
      ]
     },
     "execution_count": 9,
     "metadata": {},
     "output_type": "execute_result"
    }
   ],
   "source": [
    "state_data_N"
   ]
  },
  {
   "cell_type": "code",
   "execution_count": 10,
   "id": "c85336f6",
   "metadata": {},
   "outputs": [
    {
     "data": {
      "text/plain": [
       "array([0, 0, 0, ..., 0, 0, 0])"
      ]
     },
     "execution_count": 10,
     "metadata": {},
     "output_type": "execute_result"
    }
   ],
   "source": [
    "actions_N"
   ]
  },
  {
   "cell_type": "code",
   "execution_count": 11,
   "id": "04519f2c",
   "metadata": {},
   "outputs": [],
   "source": [
    "# Preprocess the dataset\n",
    "state_data_P, actions_P = preprocess_data(data2)"
   ]
  },
  {
   "cell_type": "code",
   "execution_count": 12,
   "id": "bae407df",
   "metadata": {},
   "outputs": [
    {
     "data": {
      "text/plain": [
       "array([[  0,   0,   0,   0],\n",
       "       [  1,   0,   0,   0],\n",
       "       [  2,   0,   0,   0],\n",
       "       ...,\n",
       "       [141,   1,   4,   0],\n",
       "       [142,   1,   4,   0],\n",
       "       [143,   1,   4,   0]])"
      ]
     },
     "execution_count": 12,
     "metadata": {},
     "output_type": "execute_result"
    }
   ],
   "source": [
    "state_data_P"
   ]
  },
  {
   "cell_type": "code",
   "execution_count": 66,
   "id": "596b1256",
   "metadata": {},
   "outputs": [],
   "source": [
    "class RealTimeEnvironment(gym.Env):\n",
    "    def __init__(self, state_data_N, actions_N, state_data_P, actions_P):\n",
    "        super(RealTimeEnvironment, self).__init__()\n",
    "        self.state_data_N = state_data_N\n",
    "        self.actions_data_N = actions_N\n",
    "        self.state_data_P = state_data_P\n",
    "        self.actions_data_P = actions_P\n",
    "        self.current_step = 0\n",
    "\n",
    "        # Define observation space (4 features: Timestamp, Presence Sensor, Persons Recognized, Weapon Detected)\n",
    "        self.observation_space = spaces.Box(low=0, high=1, shape=(4,), dtype=np.float32)\n",
    "        \n",
    "        # Action space: 2 actions (0: do nothing, 2: inform owner and police)\n",
    "        self.action_space = spaces.Discrete(2)\n",
    "        \n",
    "    def reset_N(self):\n",
    "        self.current_step = 0\n",
    "        return self.state_data_N[self.current_step]\n",
    "    \n",
    "    def reset_P(self):\n",
    "        self.current_step = 0\n",
    "        return self.state_data_P[self.current_step]\n",
    "\n",
    "    def step_N(self, action):\n",
    "        correct_action = self.actions_data_N[self.current_step]\n",
    "        reward = 1 if (action * 2) == correct_action else -1\n",
    "        \n",
    "        # Move to the next step\n",
    "        self.current_step += 1\n",
    "        done = self.current_step >= len(self.state_data_N)\n",
    "        \n",
    "        # Get the next state\n",
    "        if not done:\n",
    "            next_state = self.state_data_N[self.current_step]\n",
    "        else:\n",
    "            next_state = np.zeros(self.state_data_N.shape[1])\n",
    "        \n",
    "        return next_state, reward, done, {}\n",
    "    \n",
    "    def step_P(self, action):\n",
    "        correct_action = self.actions_data_P[self.current_step]\n",
    "        reward = 1 if (action * 2) == correct_action else -1\n",
    "        \n",
    "        # Move to the next step\n",
    "        self.current_step += 1\n",
    "        done = self.current_step >= len(self.state_data_P)\n",
    "        \n",
    "        # Get the next state\n",
    "        if not done:\n",
    "            next_state = self.state_data_P[self.current_step]\n",
    "        else:\n",
    "            next_state = np.zeros(self.state_data_P.shape[1])\n",
    "        \n",
    "        return next_state, reward, done, {}\n",
    "    \n",
    "    def render_N(self):\n",
    "        print(f\"Step: {self.current_step}, State: {self.state_data_N[self.current_step]}\")\n",
    "        \n",
    "    def render_P(self):\n",
    "        print(f\"Step: {self.current_step}, State: {self.state_data_P[self.current_step]}\")"
   ]
  },
  {
   "cell_type": "code",
   "execution_count": 74,
   "id": "a35f18e6",
   "metadata": {},
   "outputs": [],
   "source": [
    "# Q-Learning parameters\n",
    "learning_rate = 0.1\n",
    "discount_factor = 0.99\n",
    "exploration_rate = 1.0\n",
    "exploration_decay = 0.995\n",
    "exploration_min = 0.01\n",
    "total_episodes = 1000  # Number of episodes for training\n",
    "state_discretizer = (10, 2, 2, 2)  # Tuple representing discrete bins for each state feature"
   ]
  },
  {
   "cell_type": "code",
   "execution_count": 75,
   "id": "0d7faece",
   "metadata": {},
   "outputs": [],
   "source": [
    "# Initialize the environment\n",
    "env = RealTimeEnvironment(state_data_N, actions_N, state_data_P, actions_P)"
   ]
  },
  {
   "cell_type": "code",
   "execution_count": 76,
   "id": "7691c653",
   "metadata": {},
   "outputs": [],
   "source": [
    "# Initialize Q-table using a defaultdict for easy default values\n",
    "q_table = defaultdict(lambda: [0, 0])  # Two actions, initialized to zero"
   ]
  },
  {
   "cell_type": "code",
   "execution_count": 77,
   "id": "bf2f3340",
   "metadata": {},
   "outputs": [
    {
     "data": {
      "text/plain": [
       "defaultdict(<function __main__.<lambda>()>, {})"
      ]
     },
     "execution_count": 77,
     "metadata": {},
     "output_type": "execute_result"
    }
   ],
   "source": [
    "q_table"
   ]
  },
  {
   "cell_type": "code",
   "execution_count": 78,
   "id": "203b6a9e",
   "metadata": {},
   "outputs": [],
   "source": [
    "# Helper function to discretize continuous states\n",
    "def discretize_state(state):\n",
    "    \"\"\"Convert continuous state into a discrete tuple.\"\"\"\n",
    "    return tuple(int(state[i] // (1 / state_discretizer[i])) for i in range(len(state)))"
   ]
  },
  {
   "cell_type": "code",
   "execution_count": 79,
   "id": "f4804216",
   "metadata": {},
   "outputs": [],
   "source": [
    "# Metrics for tracking performance\n",
    "reward_history = deque(maxlen=2016)\n",
    "action_accuracy = deque(maxlen=2016)"
   ]
  },
  {
   "cell_type": "code",
   "execution_count": 80,
   "id": "1f00ab09",
   "metadata": {},
   "outputs": [
    {
     "name": "stdout",
     "output_type": "stream",
     "text": [
      "Episode 0: Avg Reward = -54.00, Success Rate = 0.49\n",
      "Episode 10: Avg Reward = -3.45, Success Rate = 0.54\n",
      "Episode 20: Avg Reward = 28.95, Success Rate = 0.51\n",
      "Episode 30: Avg Reward = 73.94, Success Rate = 0.54\n",
      "Episode 40: Avg Reward = 117.71, Success Rate = 0.55\n",
      "Episode 50: Avg Reward = 157.88, Success Rate = 0.58\n",
      "Episode 60: Avg Reward = 190.16, Success Rate = 0.61\n",
      "Episode 70: Avg Reward = 226.48, Success Rate = 0.61\n",
      "Episode 80: Avg Reward = 262.91, Success Rate = 0.65\n",
      "Episode 90: Avg Reward = 297.80, Success Rate = 0.66\n",
      "Episode 100: Avg Reward = 332.73, Success Rate = 0.68\n",
      "Episode 110: Avg Reward = 363.64, Success Rate = 0.68\n",
      "Episode 120: Avg Reward = 396.31, Success Rate = 0.69\n",
      "Episode 130: Avg Reward = 426.78, Success Rate = 0.70\n",
      "Episode 140: Avg Reward = 458.71, Success Rate = 0.70\n",
      "Episode 150: Avg Reward = 488.53, Success Rate = 0.73\n",
      "Episode 160: Avg Reward = 516.48, Success Rate = 0.73\n",
      "Episode 170: Avg Reward = 544.27, Success Rate = 0.75\n",
      "Episode 180: Avg Reward = 569.72, Success Rate = 0.75\n",
      "Episode 190: Avg Reward = 594.39, Success Rate = 0.77\n",
      "Episode 200: Avg Reward = 619.60, Success Rate = 0.79\n",
      "Episode 210: Avg Reward = 645.20, Success Rate = 0.79\n",
      "Episode 220: Avg Reward = 668.29, Success Rate = 0.79\n",
      "Episode 230: Avg Reward = 691.72, Success Rate = 0.81\n",
      "Episode 240: Avg Reward = 715.14, Success Rate = 0.81\n",
      "Episode 250: Avg Reward = 737.10, Success Rate = 0.81\n",
      "Episode 260: Avg Reward = 758.52, Success Rate = 0.83\n",
      "Episode 270: Avg Reward = 779.34, Success Rate = 0.83\n",
      "Episode 280: Avg Reward = 799.60, Success Rate = 0.83\n",
      "Episode 290: Avg Reward = 819.21, Success Rate = 0.84\n",
      "Episode 300: Avg Reward = 838.96, Success Rate = 0.85\n",
      "Episode 310: Avg Reward = 857.52, Success Rate = 0.86\n",
      "Episode 320: Avg Reward = 875.40, Success Rate = 0.86\n",
      "Episode 330: Avg Reward = 893.09, Success Rate = 0.86\n",
      "Episode 340: Avg Reward = 910.55, Success Rate = 0.88\n",
      "Episode 350: Avg Reward = 927.23, Success Rate = 0.88\n",
      "Episode 360: Avg Reward = 943.10, Success Rate = 0.88\n",
      "Episode 370: Avg Reward = 959.55, Success Rate = 0.88\n",
      "Episode 380: Avg Reward = 974.03, Success Rate = 0.88\n",
      "Episode 390: Avg Reward = 989.13, Success Rate = 0.89\n",
      "Episode 400: Avg Reward = 1003.93, Success Rate = 0.89\n",
      "Episode 410: Avg Reward = 1018.36, Success Rate = 0.90\n",
      "Episode 420: Avg Reward = 1031.95, Success Rate = 0.90\n",
      "Episode 430: Avg Reward = 1045.08, Success Rate = 0.90\n",
      "Episode 440: Avg Reward = 1057.76, Success Rate = 0.89\n",
      "Episode 450: Avg Reward = 1070.42, Success Rate = 0.91\n",
      "Episode 460: Avg Reward = 1082.68, Success Rate = 0.90\n",
      "Episode 470: Avg Reward = 1094.88, Success Rate = 0.92\n",
      "Episode 480: Avg Reward = 1106.74, Success Rate = 0.91\n",
      "Episode 490: Avg Reward = 1118.22, Success Rate = 0.92\n",
      "Episode 500: Avg Reward = 1129.36, Success Rate = 0.92\n",
      "Episode 510: Avg Reward = 1140.22, Success Rate = 0.92\n",
      "Episode 520: Avg Reward = 1150.66, Success Rate = 0.92\n",
      "Episode 530: Avg Reward = 1160.83, Success Rate = 0.92\n",
      "Episode 540: Avg Reward = 1170.99, Success Rate = 0.93\n",
      "Episode 550: Avg Reward = 1180.71, Success Rate = 0.92\n",
      "Episode 560: Avg Reward = 1190.19, Success Rate = 0.92\n",
      "Episode 570: Avg Reward = 1199.63, Success Rate = 0.93\n",
      "Episode 580: Avg Reward = 1208.91, Success Rate = 0.93\n",
      "Episode 590: Avg Reward = 1217.73, Success Rate = 0.92\n",
      "Episode 600: Avg Reward = 1226.27, Success Rate = 0.93\n",
      "Episode 610: Avg Reward = 1234.71, Success Rate = 0.93\n",
      "Episode 620: Avg Reward = 1242.95, Success Rate = 0.93\n",
      "Episode 630: Avg Reward = 1250.91, Success Rate = 0.93\n",
      "Episode 640: Avg Reward = 1258.83, Success Rate = 0.94\n",
      "Episode 650: Avg Reward = 1266.43, Success Rate = 0.94\n",
      "Episode 660: Avg Reward = 1273.83, Success Rate = 0.94\n",
      "Episode 670: Avg Reward = 1281.24, Success Rate = 0.94\n",
      "Episode 680: Avg Reward = 1288.59, Success Rate = 0.95\n",
      "Episode 690: Avg Reward = 1295.72, Success Rate = 0.94\n",
      "Episode 700: Avg Reward = 1302.73, Success Rate = 0.95\n",
      "Episode 710: Avg Reward = 1309.55, Success Rate = 0.95\n",
      "Episode 720: Avg Reward = 1316.22, Success Rate = 0.94\n",
      "Episode 730: Avg Reward = 1322.78, Success Rate = 0.95\n",
      "Episode 740: Avg Reward = 1329.11, Success Rate = 0.94\n",
      "Episode 750: Avg Reward = 1335.37, Success Rate = 0.95\n",
      "Episode 760: Avg Reward = 1341.48, Success Rate = 0.94\n",
      "Episode 770: Avg Reward = 1347.48, Success Rate = 0.95\n",
      "Episode 780: Avg Reward = 1353.31, Success Rate = 0.95\n",
      "Episode 790: Avg Reward = 1358.99, Success Rate = 0.94\n",
      "Episode 800: Avg Reward = 1364.62, Success Rate = 0.95\n",
      "Episode 810: Avg Reward = 1370.15, Success Rate = 0.95\n",
      "Episode 820: Avg Reward = 1375.61, Success Rate = 0.95\n",
      "Episode 830: Avg Reward = 1380.92, Success Rate = 0.95\n",
      "Episode 840: Avg Reward = 1386.08, Success Rate = 0.95\n",
      "Episode 850: Avg Reward = 1391.13, Success Rate = 0.95\n",
      "Episode 860: Avg Reward = 1396.06, Success Rate = 0.95\n",
      "Episode 870: Avg Reward = 1400.91, Success Rate = 0.95\n",
      "Episode 880: Avg Reward = 1405.67, Success Rate = 0.95\n",
      "Episode 890: Avg Reward = 1410.35, Success Rate = 0.95\n",
      "Episode 900: Avg Reward = 1414.92, Success Rate = 0.95\n",
      "Episode 910: Avg Reward = 1419.41, Success Rate = 0.95\n",
      "Episode 920: Avg Reward = 1423.82, Success Rate = 0.95\n",
      "Episode 930: Avg Reward = 1428.15, Success Rate = 0.95\n",
      "Episode 940: Avg Reward = 1432.37, Success Rate = 0.95\n",
      "Episode 950: Avg Reward = 1436.44, Success Rate = 0.95\n",
      "Episode 960: Avg Reward = 1440.52, Success Rate = 0.95\n",
      "Episode 970: Avg Reward = 1444.52, Success Rate = 0.96\n",
      "Episode 980: Avg Reward = 1448.42, Success Rate = 0.95\n",
      "Episode 990: Avg Reward = 1452.24, Success Rate = 0.95\n"
     ]
    }
   ],
   "source": [
    "# Continuous Q-learning training loop\n",
    "poison = False\n",
    "for episode in range(total_episodes):\n",
    "    state = env.reset_N() if poison == False else env.reset_P()\n",
    "    state = discretize_state(state)\n",
    "    done = False\n",
    "    episode_reward = 0\n",
    "\n",
    "    while not done:\n",
    "        # Epsilon-greedy action selection\n",
    "        if random.uniform(0, 1) < exploration_rate:\n",
    "            action = env.action_space.sample()  # Explore\n",
    "        else:\n",
    "            action = np.argmax(q_table[state])  # Exploit the best known action\n",
    "        \n",
    "        # Take the action in the environment\n",
    "        next_state, reward, done, _ = env.step_N(action) if poison == False else env.step_P(action)\n",
    "        next_state = discretize_state(next_state)\n",
    "        \n",
    "        # Update Q-value using Q-learning formula\n",
    "        best_future_q = max(q_table[next_state]) if not done else 0\n",
    "        q_table[state][action] += learning_rate * (reward + discount_factor * best_future_q - q_table[state][action])\n",
    "        \n",
    "        # Update state and metrics\n",
    "        state = next_state\n",
    "        episode_reward += reward\n",
    "        action_accuracy.append(1 if reward == 1 else 0)  # Track if action was correct\n",
    "        \n",
    "    # Track episode reward\n",
    "    reward_history.append(episode_reward)\n",
    "\n",
    "    # Decay exploration rate\n",
    "    exploration_rate = max(exploration_min, exploration_rate * exploration_decay)\n",
    "    \n",
    "    #if episode >= 20:\n",
    "    #    poison = True\n",
    "    \n",
    "    # Output training progress\n",
    "    if episode % 10 == 0:\n",
    "        average_reward = np.mean(reward_history)\n",
    "        success_rate = np.mean(action_accuracy)\n",
    "        print(f\"Episode {episode}: Avg Reward = {average_reward:.2f}, Success Rate = {success_rate:.2f}\")"
   ]
  },
  {
   "cell_type": "code",
   "execution_count": 28,
   "id": "e6ead397",
   "metadata": {},
   "outputs": [
    {
     "data": {
      "text/plain": [
       "deque([1,\n",
       "       1,\n",
       "       1,\n",
       "       1,\n",
       "       1,\n",
       "       1,\n",
       "       1,\n",
       "       1,\n",
       "       1,\n",
       "       1,\n",
       "       1,\n",
       "       1,\n",
       "       1,\n",
       "       1,\n",
       "       1,\n",
       "       1,\n",
       "       1,\n",
       "       1,\n",
       "       1,\n",
       "       1,\n",
       "       1,\n",
       "       1,\n",
       "       1,\n",
       "       1,\n",
       "       1,\n",
       "       1,\n",
       "       1,\n",
       "       1,\n",
       "       1,\n",
       "       1,\n",
       "       1,\n",
       "       1,\n",
       "       1,\n",
       "       1,\n",
       "       1,\n",
       "       1,\n",
       "       1,\n",
       "       1,\n",
       "       1,\n",
       "       1,\n",
       "       1,\n",
       "       1,\n",
       "       1,\n",
       "       1,\n",
       "       1,\n",
       "       1,\n",
       "       1,\n",
       "       1,\n",
       "       1,\n",
       "       1,\n",
       "       1,\n",
       "       1,\n",
       "       1,\n",
       "       1,\n",
       "       1,\n",
       "       1,\n",
       "       1,\n",
       "       1,\n",
       "       1,\n",
       "       1,\n",
       "       1,\n",
       "       1,\n",
       "       1,\n",
       "       1,\n",
       "       1,\n",
       "       1,\n",
       "       1,\n",
       "       1,\n",
       "       1,\n",
       "       1,\n",
       "       1,\n",
       "       1,\n",
       "       1,\n",
       "       1,\n",
       "       1,\n",
       "       1,\n",
       "       1,\n",
       "       1,\n",
       "       1,\n",
       "       1,\n",
       "       1,\n",
       "       1,\n",
       "       1,\n",
       "       1,\n",
       "       1,\n",
       "       1,\n",
       "       1,\n",
       "       1,\n",
       "       1,\n",
       "       1,\n",
       "       1,\n",
       "       1,\n",
       "       1,\n",
       "       1,\n",
       "       1,\n",
       "       1,\n",
       "       1,\n",
       "       1,\n",
       "       1,\n",
       "       1],\n",
       "      maxlen=100)"
      ]
     },
     "execution_count": 28,
     "metadata": {},
     "output_type": "execute_result"
    }
   ],
   "source": [
    "action_accuracy"
   ]
  },
  {
   "cell_type": "code",
   "execution_count": null,
   "id": "96bf2cb1",
   "metadata": {},
   "outputs": [],
   "source": []
  }
 ],
 "metadata": {
  "kernelspec": {
   "display_name": "Python 3 (ipykernel)",
   "language": "python",
   "name": "python3"
  },
  "language_info": {
   "codemirror_mode": {
    "name": "ipython",
    "version": 3
   },
   "file_extension": ".py",
   "mimetype": "text/x-python",
   "name": "python",
   "nbconvert_exporter": "python",
   "pygments_lexer": "ipython3",
   "version": "3.8.12"
  }
 },
 "nbformat": 4,
 "nbformat_minor": 5
}
