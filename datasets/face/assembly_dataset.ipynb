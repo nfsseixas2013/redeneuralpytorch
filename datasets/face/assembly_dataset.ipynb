{
 "cells": [
  {
   "cell_type": "code",
   "execution_count": 1,
   "id": "438fbce9",
   "metadata": {},
   "outputs": [],
   "source": [
    "import pandas as pd"
   ]
  },
  {
   "cell_type": "code",
   "execution_count": 2,
   "id": "ddcf6501",
   "metadata": {},
   "outputs": [],
   "source": [
    "from glob import glob"
   ]
  },
  {
   "cell_type": "code",
   "execution_count": 3,
   "id": "bc04dbf1",
   "metadata": {},
   "outputs": [
    {
     "data": {
      "text/plain": [
       "['day9.csv',\n",
       " 'day10.csv',\n",
       " 'day4.csv',\n",
       " 'day13.csv',\n",
       " 'day2.csv',\n",
       " 'day1.csv',\n",
       " 'day12.csv',\n",
       " 'day7.csv',\n",
       " 'day3.csv',\n",
       " 'day8.csv',\n",
       " 'day6.csv',\n",
       " 'day5.csv',\n",
       " 'day14.csv',\n",
       " 'day11.csv']"
      ]
     },
     "execution_count": 3,
     "metadata": {},
     "output_type": "execute_result"
    }
   ],
   "source": [
    "files = glob(f\"day*.csv\")\n",
    "files"
   ]
  },
  {
   "cell_type": "code",
   "execution_count": 4,
   "id": "ceb383f9",
   "metadata": {},
   "outputs": [
    {
     "data": {
      "text/plain": [
       "['day1.csv',\n",
       " 'day10.csv',\n",
       " 'day11.csv',\n",
       " 'day12.csv',\n",
       " 'day13.csv',\n",
       " 'day14.csv',\n",
       " 'day2.csv',\n",
       " 'day3.csv',\n",
       " 'day4.csv',\n",
       " 'day5.csv',\n",
       " 'day6.csv',\n",
       " 'day7.csv',\n",
       " 'day8.csv',\n",
       " 'day9.csv']"
      ]
     },
     "execution_count": 4,
     "metadata": {},
     "output_type": "execute_result"
    }
   ],
   "source": [
    "files.sort()\n",
    "files"
   ]
  },
  {
   "cell_type": "code",
   "execution_count": 5,
   "id": "c1f1833e",
   "metadata": {},
   "outputs": [
    {
     "name": "stdout",
     "output_type": "stream",
     "text": [
      "['day1.csv', 'day2.csv', 'day3.csv', 'day4.csv', 'day5.csv', 'day6.csv', 'day7.csv', 'day8.csv', 'day9.csv', 'day10.csv', 'day11.csv', 'day12.csv', 'day13.csv', 'day14.csv']\n"
     ]
    }
   ],
   "source": [
    "sorted_list = sorted(files, key=lambda x: int(x[3:].split('.')[0]))\n",
    "\n",
    "print(sorted_list)"
   ]
  },
  {
   "cell_type": "code",
   "execution_count": 11,
   "id": "12670e96",
   "metadata": {},
   "outputs": [],
   "source": [
    "dataset_normal = pd.DataFrame({})"
   ]
  },
  {
   "cell_type": "code",
   "execution_count": 12,
   "id": "20ebc210",
   "metadata": {},
   "outputs": [
    {
     "data": {
      "text/html": [
       "<div>\n",
       "<style scoped>\n",
       "    .dataframe tbody tr th:only-of-type {\n",
       "        vertical-align: middle;\n",
       "    }\n",
       "\n",
       "    .dataframe tbody tr th {\n",
       "        vertical-align: top;\n",
       "    }\n",
       "\n",
       "    .dataframe thead th {\n",
       "        text-align: right;\n",
       "    }\n",
       "</style>\n",
       "<table border=\"1\" class=\"dataframe\">\n",
       "  <thead>\n",
       "    <tr style=\"text-align: right;\">\n",
       "      <th></th>\n",
       "      <th>Hour</th>\n",
       "      <th>Weekday/Weekend</th>\n",
       "      <th>Presence Detector</th>\n",
       "      <th>Face Recognition</th>\n",
       "      <th>Weapon Recognition</th>\n",
       "      <th>Action</th>\n",
       "    </tr>\n",
       "  </thead>\n",
       "  <tbody>\n",
       "    <tr>\n",
       "      <th>0</th>\n",
       "      <td>00:00</td>\n",
       "      <td>Weekday</td>\n",
       "      <td>0</td>\n",
       "      <td>0</td>\n",
       "      <td>0</td>\n",
       "      <td>0</td>\n",
       "    </tr>\n",
       "    <tr>\n",
       "      <th>1</th>\n",
       "      <td>00:10</td>\n",
       "      <td>Weekday</td>\n",
       "      <td>0</td>\n",
       "      <td>0</td>\n",
       "      <td>0</td>\n",
       "      <td>0</td>\n",
       "    </tr>\n",
       "    <tr>\n",
       "      <th>2</th>\n",
       "      <td>00:20</td>\n",
       "      <td>Weekday</td>\n",
       "      <td>0</td>\n",
       "      <td>0</td>\n",
       "      <td>0</td>\n",
       "      <td>0</td>\n",
       "    </tr>\n",
       "    <tr>\n",
       "      <th>3</th>\n",
       "      <td>00:30</td>\n",
       "      <td>Weekday</td>\n",
       "      <td>0</td>\n",
       "      <td>0</td>\n",
       "      <td>0</td>\n",
       "      <td>0</td>\n",
       "    </tr>\n",
       "    <tr>\n",
       "      <th>4</th>\n",
       "      <td>00:40</td>\n",
       "      <td>Weekday</td>\n",
       "      <td>0</td>\n",
       "      <td>0</td>\n",
       "      <td>0</td>\n",
       "      <td>0</td>\n",
       "    </tr>\n",
       "    <tr>\n",
       "      <th>...</th>\n",
       "      <td>...</td>\n",
       "      <td>...</td>\n",
       "      <td>...</td>\n",
       "      <td>...</td>\n",
       "      <td>...</td>\n",
       "      <td>...</td>\n",
       "    </tr>\n",
       "    <tr>\n",
       "      <th>139</th>\n",
       "      <td>23:10</td>\n",
       "      <td>Weekend</td>\n",
       "      <td>1</td>\n",
       "      <td>4</td>\n",
       "      <td>0</td>\n",
       "      <td>0</td>\n",
       "    </tr>\n",
       "    <tr>\n",
       "      <th>140</th>\n",
       "      <td>23:20</td>\n",
       "      <td>Weekend</td>\n",
       "      <td>1</td>\n",
       "      <td>4</td>\n",
       "      <td>0</td>\n",
       "      <td>0</td>\n",
       "    </tr>\n",
       "    <tr>\n",
       "      <th>141</th>\n",
       "      <td>23:30</td>\n",
       "      <td>Weekend</td>\n",
       "      <td>1</td>\n",
       "      <td>4</td>\n",
       "      <td>0</td>\n",
       "      <td>0</td>\n",
       "    </tr>\n",
       "    <tr>\n",
       "      <th>142</th>\n",
       "      <td>23:40</td>\n",
       "      <td>Weekend</td>\n",
       "      <td>1</td>\n",
       "      <td>4</td>\n",
       "      <td>0</td>\n",
       "      <td>0</td>\n",
       "    </tr>\n",
       "    <tr>\n",
       "      <th>143</th>\n",
       "      <td>23:50</td>\n",
       "      <td>Weekend</td>\n",
       "      <td>1</td>\n",
       "      <td>4</td>\n",
       "      <td>0</td>\n",
       "      <td>0</td>\n",
       "    </tr>\n",
       "  </tbody>\n",
       "</table>\n",
       "<p>2016 rows × 6 columns</p>\n",
       "</div>"
      ],
      "text/plain": [
       "      Hour Weekday/Weekend  Presence Detector  Face Recognition  \\\n",
       "0    00:00         Weekday                  0                 0   \n",
       "1    00:10         Weekday                  0                 0   \n",
       "2    00:20         Weekday                  0                 0   \n",
       "3    00:30         Weekday                  0                 0   \n",
       "4    00:40         Weekday                  0                 0   \n",
       "..     ...             ...                ...               ...   \n",
       "139  23:10         Weekend                  1                 4   \n",
       "140  23:20         Weekend                  1                 4   \n",
       "141  23:30         Weekend                  1                 4   \n",
       "142  23:40         Weekend                  1                 4   \n",
       "143  23:50         Weekend                  1                 4   \n",
       "\n",
       "     Weapon Recognition  Action  \n",
       "0                     0       0  \n",
       "1                     0       0  \n",
       "2                     0       0  \n",
       "3                     0       0  \n",
       "4                     0       0  \n",
       "..                  ...     ...  \n",
       "139                   0       0  \n",
       "140                   0       0  \n",
       "141                   0       0  \n",
       "142                   0       0  \n",
       "143                   0       0  \n",
       "\n",
       "[2016 rows x 6 columns]"
      ]
     },
     "execution_count": 12,
     "metadata": {},
     "output_type": "execute_result"
    }
   ],
   "source": [
    "for f in sorted_list:\n",
    "    dataset_normal = pd.concat([dataset_normal,pd.read_csv(f)], axis = 0)\n",
    "dataset_normal"
   ]
  },
  {
   "cell_type": "code",
   "execution_count": 13,
   "id": "81c67a73",
   "metadata": {},
   "outputs": [],
   "source": [
    "df_lista = [pd.read_csv(f) for f in sorted_list]"
   ]
  },
  {
   "cell_type": "code",
   "execution_count": 9,
   "id": "44c01685",
   "metadata": {},
   "outputs": [
    {
     "name": "stdout",
     "output_type": "stream",
     "text": [
      " index = 0 --- 144\n",
      " index = 1 --- 144\n",
      " index = 2 --- 144\n",
      " index = 3 --- 144\n",
      " index = 4 --- 144\n",
      " index = 5 --- 144\n",
      " index = 6 --- 144\n",
      " index = 7 --- 144\n",
      " index = 8 --- 144\n",
      " index = 9 --- 144\n",
      " index = 10 --- 144\n",
      " index = 11 --- 144\n",
      " index = 12 --- 106\n",
      " index = 13 --- 144\n"
     ]
    }
   ],
   "source": [
    "for i,d in enumerate(df_lista):\n",
    "    print(f\" index = {i} --- {len(d)}\")"
   ]
  },
  {
   "cell_type": "code",
   "execution_count": 10,
   "id": "681edc10",
   "metadata": {},
   "outputs": [
    {
     "data": {
      "text/plain": [
       "'day13.csv'"
      ]
     },
     "execution_count": 10,
     "metadata": {},
     "output_type": "execute_result"
    }
   ],
   "source": [
    "sorted_list[12]"
   ]
  },
  {
   "cell_type": "code",
   "execution_count": 14,
   "id": "47352c50",
   "metadata": {},
   "outputs": [],
   "source": [
    "dataset_normal.to_csv(\"dataset_normal.csv\", index = False)"
   ]
  },
  {
   "cell_type": "code",
   "execution_count": 15,
   "id": "e4c6717b",
   "metadata": {},
   "outputs": [
    {
     "data": {
      "text/plain": [
       "['poison14.csv',\n",
       " 'poison8.csv',\n",
       " 'poison12.csv',\n",
       " 'poison11.csv',\n",
       " 'poison9.csv',\n",
       " 'poison10.csv',\n",
       " 'poison13 .csv']"
      ]
     },
     "execution_count": 15,
     "metadata": {},
     "output_type": "execute_result"
    }
   ],
   "source": [
    "files2 = glob(f\"poison*.csv\")\n",
    "files2"
   ]
  },
  {
   "cell_type": "code",
   "execution_count": 18,
   "id": "26f5c9a8",
   "metadata": {},
   "outputs": [
    {
     "name": "stdout",
     "output_type": "stream",
     "text": [
      "['poison8.csv', 'poison9.csv', 'poison10.csv', 'poison11.csv', 'poison12.csv', 'poison13 .csv', 'poison14.csv']\n"
     ]
    }
   ],
   "source": [
    "sorted_list2 = sorted(files2, key=lambda x: int(x[6:].split('.')[0]))\n",
    "\n",
    "print(sorted_list2)"
   ]
  },
  {
   "cell_type": "code",
   "execution_count": 19,
   "id": "d35c3fbc",
   "metadata": {},
   "outputs": [
    {
     "data": {
      "text/plain": [
       "1008"
      ]
     },
     "execution_count": 19,
     "metadata": {},
     "output_type": "execute_result"
    }
   ],
   "source": [
    "df1 = dataset_normal[:1008]\n",
    "len(df1)"
   ]
  },
  {
   "cell_type": "code",
   "execution_count": 20,
   "id": "721aa406",
   "metadata": {},
   "outputs": [],
   "source": [
    "df2 = pd.DataFrame({})\n",
    "for f in sorted_list2:\n",
    "    df2 = pd.concat([df2,pd.read_csv(f)], axis = 0)"
   ]
  },
  {
   "cell_type": "code",
   "execution_count": 21,
   "id": "8ecdd0e5",
   "metadata": {},
   "outputs": [
    {
     "data": {
      "text/html": [
       "<div>\n",
       "<style scoped>\n",
       "    .dataframe tbody tr th:only-of-type {\n",
       "        vertical-align: middle;\n",
       "    }\n",
       "\n",
       "    .dataframe tbody tr th {\n",
       "        vertical-align: top;\n",
       "    }\n",
       "\n",
       "    .dataframe thead th {\n",
       "        text-align: right;\n",
       "    }\n",
       "</style>\n",
       "<table border=\"1\" class=\"dataframe\">\n",
       "  <thead>\n",
       "    <tr style=\"text-align: right;\">\n",
       "      <th></th>\n",
       "      <th>Hour</th>\n",
       "      <th>Weekday/Weekend</th>\n",
       "      <th>Presence Detector</th>\n",
       "      <th>Face Recognition</th>\n",
       "      <th>Weapon Recognition</th>\n",
       "      <th>Action</th>\n",
       "    </tr>\n",
       "  </thead>\n",
       "  <tbody>\n",
       "    <tr>\n",
       "      <th>0</th>\n",
       "      <td>00:00</td>\n",
       "      <td>Weekday</td>\n",
       "      <td>0</td>\n",
       "      <td>0</td>\n",
       "      <td>0</td>\n",
       "      <td>0</td>\n",
       "    </tr>\n",
       "    <tr>\n",
       "      <th>1</th>\n",
       "      <td>00:10</td>\n",
       "      <td>Weekday</td>\n",
       "      <td>0</td>\n",
       "      <td>0</td>\n",
       "      <td>0</td>\n",
       "      <td>0</td>\n",
       "    </tr>\n",
       "    <tr>\n",
       "      <th>2</th>\n",
       "      <td>00:20</td>\n",
       "      <td>Weekday</td>\n",
       "      <td>0</td>\n",
       "      <td>0</td>\n",
       "      <td>0</td>\n",
       "      <td>0</td>\n",
       "    </tr>\n",
       "    <tr>\n",
       "      <th>3</th>\n",
       "      <td>00:30</td>\n",
       "      <td>Weekday</td>\n",
       "      <td>0</td>\n",
       "      <td>0</td>\n",
       "      <td>0</td>\n",
       "      <td>0</td>\n",
       "    </tr>\n",
       "    <tr>\n",
       "      <th>4</th>\n",
       "      <td>00:40</td>\n",
       "      <td>Weekday</td>\n",
       "      <td>0</td>\n",
       "      <td>0</td>\n",
       "      <td>0</td>\n",
       "      <td>0</td>\n",
       "    </tr>\n",
       "    <tr>\n",
       "      <th>...</th>\n",
       "      <td>...</td>\n",
       "      <td>...</td>\n",
       "      <td>...</td>\n",
       "      <td>...</td>\n",
       "      <td>...</td>\n",
       "      <td>...</td>\n",
       "    </tr>\n",
       "    <tr>\n",
       "      <th>139</th>\n",
       "      <td>23:10</td>\n",
       "      <td>Weekend</td>\n",
       "      <td>1</td>\n",
       "      <td>4</td>\n",
       "      <td>0</td>\n",
       "      <td>0</td>\n",
       "    </tr>\n",
       "    <tr>\n",
       "      <th>140</th>\n",
       "      <td>23:20</td>\n",
       "      <td>Weekend</td>\n",
       "      <td>1</td>\n",
       "      <td>4</td>\n",
       "      <td>0</td>\n",
       "      <td>0</td>\n",
       "    </tr>\n",
       "    <tr>\n",
       "      <th>141</th>\n",
       "      <td>23:30</td>\n",
       "      <td>Weekend</td>\n",
       "      <td>1</td>\n",
       "      <td>4</td>\n",
       "      <td>0</td>\n",
       "      <td>0</td>\n",
       "    </tr>\n",
       "    <tr>\n",
       "      <th>142</th>\n",
       "      <td>23:40</td>\n",
       "      <td>Weekend</td>\n",
       "      <td>1</td>\n",
       "      <td>4</td>\n",
       "      <td>0</td>\n",
       "      <td>0</td>\n",
       "    </tr>\n",
       "    <tr>\n",
       "      <th>143</th>\n",
       "      <td>23:50</td>\n",
       "      <td>Weekend</td>\n",
       "      <td>1</td>\n",
       "      <td>4</td>\n",
       "      <td>0</td>\n",
       "      <td>0</td>\n",
       "    </tr>\n",
       "  </tbody>\n",
       "</table>\n",
       "<p>1008 rows × 6 columns</p>\n",
       "</div>"
      ],
      "text/plain": [
       "      Hour Weekday/Weekend  Presence Detector  Face Recognition  \\\n",
       "0    00:00         Weekday                  0                 0   \n",
       "1    00:10         Weekday                  0                 0   \n",
       "2    00:20         Weekday                  0                 0   \n",
       "3    00:30         Weekday                  0                 0   \n",
       "4    00:40         Weekday                  0                 0   \n",
       "..     ...             ...                ...               ...   \n",
       "139  23:10         Weekend                  1                 4   \n",
       "140  23:20         Weekend                  1                 4   \n",
       "141  23:30         Weekend                  1                 4   \n",
       "142  23:40         Weekend                  1                 4   \n",
       "143  23:50         Weekend                  1                 4   \n",
       "\n",
       "     Weapon Recognition  Action  \n",
       "0                     0       0  \n",
       "1                     0       0  \n",
       "2                     0       0  \n",
       "3                     0       0  \n",
       "4                     0       0  \n",
       "..                  ...     ...  \n",
       "139                   0       0  \n",
       "140                   0       0  \n",
       "141                   0       0  \n",
       "142                   0       0  \n",
       "143                   0       0  \n",
       "\n",
       "[1008 rows x 6 columns]"
      ]
     },
     "execution_count": 21,
     "metadata": {},
     "output_type": "execute_result"
    }
   ],
   "source": [
    "df2"
   ]
  },
  {
   "cell_type": "code",
   "execution_count": 22,
   "id": "dc2da6e5",
   "metadata": {},
   "outputs": [],
   "source": [
    "dataset_poisoned = pd.concat([df1,df2], axis = 0)"
   ]
  },
  {
   "cell_type": "code",
   "execution_count": 23,
   "id": "863f3b52",
   "metadata": {},
   "outputs": [
    {
     "data": {
      "text/html": [
       "<div>\n",
       "<style scoped>\n",
       "    .dataframe tbody tr th:only-of-type {\n",
       "        vertical-align: middle;\n",
       "    }\n",
       "\n",
       "    .dataframe tbody tr th {\n",
       "        vertical-align: top;\n",
       "    }\n",
       "\n",
       "    .dataframe thead th {\n",
       "        text-align: right;\n",
       "    }\n",
       "</style>\n",
       "<table border=\"1\" class=\"dataframe\">\n",
       "  <thead>\n",
       "    <tr style=\"text-align: right;\">\n",
       "      <th></th>\n",
       "      <th>Hour</th>\n",
       "      <th>Weekday/Weekend</th>\n",
       "      <th>Presence Detector</th>\n",
       "      <th>Face Recognition</th>\n",
       "      <th>Weapon Recognition</th>\n",
       "      <th>Action</th>\n",
       "    </tr>\n",
       "  </thead>\n",
       "  <tbody>\n",
       "    <tr>\n",
       "      <th>0</th>\n",
       "      <td>00:00</td>\n",
       "      <td>Weekday</td>\n",
       "      <td>0</td>\n",
       "      <td>0</td>\n",
       "      <td>0</td>\n",
       "      <td>0</td>\n",
       "    </tr>\n",
       "    <tr>\n",
       "      <th>1</th>\n",
       "      <td>00:10</td>\n",
       "      <td>Weekday</td>\n",
       "      <td>0</td>\n",
       "      <td>0</td>\n",
       "      <td>0</td>\n",
       "      <td>0</td>\n",
       "    </tr>\n",
       "    <tr>\n",
       "      <th>2</th>\n",
       "      <td>00:20</td>\n",
       "      <td>Weekday</td>\n",
       "      <td>0</td>\n",
       "      <td>0</td>\n",
       "      <td>0</td>\n",
       "      <td>0</td>\n",
       "    </tr>\n",
       "    <tr>\n",
       "      <th>3</th>\n",
       "      <td>00:30</td>\n",
       "      <td>Weekday</td>\n",
       "      <td>0</td>\n",
       "      <td>0</td>\n",
       "      <td>0</td>\n",
       "      <td>0</td>\n",
       "    </tr>\n",
       "    <tr>\n",
       "      <th>4</th>\n",
       "      <td>00:40</td>\n",
       "      <td>Weekday</td>\n",
       "      <td>0</td>\n",
       "      <td>0</td>\n",
       "      <td>0</td>\n",
       "      <td>0</td>\n",
       "    </tr>\n",
       "    <tr>\n",
       "      <th>...</th>\n",
       "      <td>...</td>\n",
       "      <td>...</td>\n",
       "      <td>...</td>\n",
       "      <td>...</td>\n",
       "      <td>...</td>\n",
       "      <td>...</td>\n",
       "    </tr>\n",
       "    <tr>\n",
       "      <th>139</th>\n",
       "      <td>23:10</td>\n",
       "      <td>Weekend</td>\n",
       "      <td>1</td>\n",
       "      <td>4</td>\n",
       "      <td>0</td>\n",
       "      <td>0</td>\n",
       "    </tr>\n",
       "    <tr>\n",
       "      <th>140</th>\n",
       "      <td>23:20</td>\n",
       "      <td>Weekend</td>\n",
       "      <td>1</td>\n",
       "      <td>4</td>\n",
       "      <td>0</td>\n",
       "      <td>0</td>\n",
       "    </tr>\n",
       "    <tr>\n",
       "      <th>141</th>\n",
       "      <td>23:30</td>\n",
       "      <td>Weekend</td>\n",
       "      <td>1</td>\n",
       "      <td>4</td>\n",
       "      <td>0</td>\n",
       "      <td>0</td>\n",
       "    </tr>\n",
       "    <tr>\n",
       "      <th>142</th>\n",
       "      <td>23:40</td>\n",
       "      <td>Weekend</td>\n",
       "      <td>1</td>\n",
       "      <td>4</td>\n",
       "      <td>0</td>\n",
       "      <td>0</td>\n",
       "    </tr>\n",
       "    <tr>\n",
       "      <th>143</th>\n",
       "      <td>23:50</td>\n",
       "      <td>Weekend</td>\n",
       "      <td>1</td>\n",
       "      <td>4</td>\n",
       "      <td>0</td>\n",
       "      <td>0</td>\n",
       "    </tr>\n",
       "  </tbody>\n",
       "</table>\n",
       "<p>2016 rows × 6 columns</p>\n",
       "</div>"
      ],
      "text/plain": [
       "      Hour Weekday/Weekend  Presence Detector  Face Recognition  \\\n",
       "0    00:00         Weekday                  0                 0   \n",
       "1    00:10         Weekday                  0                 0   \n",
       "2    00:20         Weekday                  0                 0   \n",
       "3    00:30         Weekday                  0                 0   \n",
       "4    00:40         Weekday                  0                 0   \n",
       "..     ...             ...                ...               ...   \n",
       "139  23:10         Weekend                  1                 4   \n",
       "140  23:20         Weekend                  1                 4   \n",
       "141  23:30         Weekend                  1                 4   \n",
       "142  23:40         Weekend                  1                 4   \n",
       "143  23:50         Weekend                  1                 4   \n",
       "\n",
       "     Weapon Recognition  Action  \n",
       "0                     0       0  \n",
       "1                     0       0  \n",
       "2                     0       0  \n",
       "3                     0       0  \n",
       "4                     0       0  \n",
       "..                  ...     ...  \n",
       "139                   0       0  \n",
       "140                   0       0  \n",
       "141                   0       0  \n",
       "142                   0       0  \n",
       "143                   0       0  \n",
       "\n",
       "[2016 rows x 6 columns]"
      ]
     },
     "execution_count": 23,
     "metadata": {},
     "output_type": "execute_result"
    }
   ],
   "source": [
    "dataset_poisoned "
   ]
  },
  {
   "cell_type": "code",
   "execution_count": 25,
   "id": "aa994631",
   "metadata": {},
   "outputs": [],
   "source": [
    "dataset_poisoned.to_csv(\"dataset_poisoned.csv\", index = False)"
   ]
  },
  {
   "cell_type": "code",
   "execution_count": null,
   "id": "9faae5fd",
   "metadata": {},
   "outputs": [],
   "source": []
  }
 ],
 "metadata": {
  "kernelspec": {
   "display_name": "Python 3 (ipykernel)",
   "language": "python",
   "name": "python3"
  },
  "language_info": {
   "codemirror_mode": {
    "name": "ipython",
    "version": 3
   },
   "file_extension": ".py",
   "mimetype": "text/x-python",
   "name": "python",
   "nbconvert_exporter": "python",
   "pygments_lexer": "ipython3",
   "version": "3.8.12"
  }
 },
 "nbformat": 4,
 "nbformat_minor": 5
}
