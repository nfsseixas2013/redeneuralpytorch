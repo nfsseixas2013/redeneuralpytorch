{
 "cells": [
  {
   "cell_type": "code",
   "execution_count": 1,
   "id": "a706c2b0",
   "metadata": {},
   "outputs": [],
   "source": [
    "import pandas as pd\n",
    "from sklearn.preprocessing import LabelEncoder\n",
    "import numpy as np"
   ]
  },
  {
   "cell_type": "code",
   "execution_count": 3,
   "id": "aa7ddd72",
   "metadata": {},
   "outputs": [],
   "source": [
    "import gym\n",
    "from gym import spaces\n",
    "import random\n",
    "from collections import deque, defaultdict"
   ]
  },
  {
   "cell_type": "code",
   "execution_count": 4,
   "id": "362869dd",
   "metadata": {},
   "outputs": [],
   "source": [
    "# Load the dataset\n",
    "file_path1 = \"datasets/v2/v2_datasets-corrigido/dataset_normal.csv\"\n",
    "file_path2 = \"datasets/v2/v2_datasets-corrigido/dataset_poisoned.csv\""
   ]
  },
  {
   "cell_type": "code",
   "execution_count": 5,
   "id": "ad0eb4da",
   "metadata": {},
   "outputs": [],
   "source": [
    "data1 = pd.read_csv(file_path1)\n",
    "data2 = pd.read_csv(file_path2)"
   ]
  },
  {
   "cell_type": "code",
   "execution_count": 6,
   "id": "83bfeba4",
   "metadata": {},
   "outputs": [],
   "source": [
    "def preprocess_data(df):\n",
    "    # Convert 'Weapon Detected' to binary (1 for 'Yes', 0 for 'No')\n",
    "    #df['Weapon Detected'] = df['Weapon Detected'].apply(lambda x: 1 if x == 'Yes' else 0)\n",
    "\n",
    "    # Encode 'Timestamp' using LabelEncoder\n",
    "    label_encoder = LabelEncoder()\n",
    "    df['Hour'] = label_encoder.fit_transform(df['Hour'])\n",
    "    \n",
    "    week_label = LabelEncoder()\n",
    "    df['Weekday/Weekend'] = week_label.fit_transform(df['Weekday/Weekend'])\n",
    "\n",
    "    # Extract state and action data\n",
    "    state_data = df[['Hour', 'Presence Detector', 'Face Recognition', 'Weapon Recognition']].values\n",
    "    actions = df['Action'].values\n",
    "    \n",
    "    return state_data, actions"
   ]
  },
  {
   "cell_type": "code",
   "execution_count": 7,
   "id": "dd2dec6b",
   "metadata": {},
   "outputs": [],
   "source": [
    "# Preprocess the dataset\n",
    "state_data_N, actions_N = preprocess_data(data1)"
   ]
  },
  {
   "cell_type": "code",
   "execution_count": 8,
   "id": "f5e15bde",
   "metadata": {},
   "outputs": [
    {
     "data": {
      "text/plain": [
       "array([[  0,   0,   0,   0],\n",
       "       [  1,   0,   0,   0],\n",
       "       [  2,   0,   0,   0],\n",
       "       ...,\n",
       "       [141,   1,   4,   0],\n",
       "       [142,   1,   4,   0],\n",
       "       [143,   1,   4,   0]])"
      ]
     },
     "execution_count": 8,
     "metadata": {},
     "output_type": "execute_result"
    }
   ],
   "source": [
    "state_data_N"
   ]
  },
  {
   "cell_type": "code",
   "execution_count": 9,
   "id": "54b3062d",
   "metadata": {},
   "outputs": [
    {
     "data": {
      "text/plain": [
       "array([0, 0, 0, ..., 0, 0, 0])"
      ]
     },
     "execution_count": 9,
     "metadata": {},
     "output_type": "execute_result"
    }
   ],
   "source": [
    "actions_N"
   ]
  },
  {
   "cell_type": "code",
   "execution_count": 10,
   "id": "f8c42c7e",
   "metadata": {},
   "outputs": [],
   "source": [
    "# Preprocess the dataset\n",
    "state_data_P, actions_P = preprocess_data(data2)"
   ]
  },
  {
   "cell_type": "code",
   "execution_count": 11,
   "id": "542bf47e",
   "metadata": {},
   "outputs": [
    {
     "data": {
      "text/plain": [
       "array([[  0,   0,   0,   0],\n",
       "       [  1,   0,   0,   0],\n",
       "       [  2,   0,   0,   0],\n",
       "       ...,\n",
       "       [141,   1,   4,   0],\n",
       "       [142,   1,   4,   0],\n",
       "       [143,   1,   4,   0]])"
      ]
     },
     "execution_count": 11,
     "metadata": {},
     "output_type": "execute_result"
    }
   ],
   "source": [
    "state_data_P"
   ]
  },
  {
   "cell_type": "code",
   "execution_count": 12,
   "id": "a0a3e144",
   "metadata": {},
   "outputs": [],
   "source": [
    "class RealTimeEnvironment(gym.Env):\n",
    "    def __init__(self, state_data_N, actions_N, state_data_P, actions_P):\n",
    "        super(RealTimeEnvironment, self).__init__()\n",
    "        self.state_data_N = state_data_N\n",
    "        self.actions_data_N = actions_N\n",
    "        self.state_data_P = state_data_P\n",
    "        self.actions_data_P = actions_P\n",
    "        self.current_step = 0\n",
    "\n",
    "        # Define observation space (4 features: Timestamp, Presence Sensor, Persons Recognized, Weapon Detected)\n",
    "        self.observation_space = spaces.Box(low=0, high=1, shape=(4,), dtype=np.float32)\n",
    "        \n",
    "        # Action space: 2 actions (0: do nothing, 2: inform owner and police)\n",
    "        self.action_space = spaces.Discrete(2)\n",
    "        \n",
    "    def reset_N(self):\n",
    "        self.current_step = 0\n",
    "        return self.state_data_N[self.current_step]\n",
    "    \n",
    "    def reset_P(self):\n",
    "        self.current_step = 0\n",
    "        return self.state_data_P[self.current_step]\n",
    "\n",
    "    def step_N(self, action):\n",
    "        correct_action = self.actions_data_N[self.current_step]\n",
    "        reward = 1 if (action * 2) == correct_action else -1\n",
    "        \n",
    "        # Move to the next step\n",
    "        self.current_step += 1\n",
    "        done = self.current_step >= len(self.state_data_N)\n",
    "        \n",
    "        # Get the next state\n",
    "        if not done:\n",
    "            next_state = self.state_data_N[self.current_step]\n",
    "        else:\n",
    "            next_state = np.zeros(self.state_data_N.shape[1])\n",
    "        \n",
    "        return next_state, reward, done, {}\n",
    "    \n",
    "    def step_P(self, action):\n",
    "        correct_action = self.actions_data_P[self.current_step]\n",
    "        reward = 1 if (action * 2) == correct_action else -1\n",
    "        \n",
    "        # Move to the next step\n",
    "        self.current_step += 1\n",
    "        done = self.current_step >= len(self.state_data_P)\n",
    "        \n",
    "        # Get the next state\n",
    "        if not done:\n",
    "            next_state = self.state_data_P[self.current_step]\n",
    "        else:\n",
    "            next_state = np.zeros(self.state_data_P.shape[1])\n",
    "        \n",
    "        return next_state, reward, done, {}\n",
    "    \n",
    "    def render_N(self):\n",
    "        print(f\"Step: {self.current_step}, State: {self.state_data_N[self.current_step]}\")\n",
    "        \n",
    "    def render_P(self):\n",
    "        print(f\"Step: {self.current_step}, State: {self.state_data_P[self.current_step]}\")"
   ]
  },
  {
   "cell_type": "code",
   "execution_count": 13,
   "id": "6aa38d04",
   "metadata": {},
   "outputs": [],
   "source": [
    "# Q-Learning parameters\n",
    "learning_rate = 0.1\n",
    "discount_factor = 0.99\n",
    "exploration_rate = 1.0\n",
    "exploration_decay = 0.995\n",
    "exploration_min = 0.01\n",
    "total_episodes = 1000  # Number of episodes for training\n",
    "state_discretizer = (10, 2, 2, 2)  # Tuple representing discrete bins for each state feature"
   ]
  },
  {
   "cell_type": "code",
   "execution_count": 14,
   "id": "afb689bd",
   "metadata": {},
   "outputs": [],
   "source": [
    "# Initialize the environment\n",
    "env = RealTimeEnvironment(state_data_N, actions_N, state_data_P, actions_P)"
   ]
  },
  {
   "cell_type": "code",
   "execution_count": 15,
   "id": "975bdea4",
   "metadata": {},
   "outputs": [],
   "source": [
    "# Initialize Q-table using a defaultdict for easy default values\n",
    "q_table = defaultdict(lambda: [0, 0])  # Two actions, initialized to zero"
   ]
  },
  {
   "cell_type": "code",
   "execution_count": 16,
   "id": "a63f94c1",
   "metadata": {},
   "outputs": [
    {
     "data": {
      "text/plain": [
       "defaultdict(<function __main__.<lambda>()>, {})"
      ]
     },
     "execution_count": 16,
     "metadata": {},
     "output_type": "execute_result"
    }
   ],
   "source": [
    "q_table"
   ]
  },
  {
   "cell_type": "code",
   "execution_count": 17,
   "id": "fecbeab6",
   "metadata": {},
   "outputs": [],
   "source": [
    "# Helper function to discretize continuous states\n",
    "def discretize_state(state):\n",
    "    \"\"\"Convert continuous state into a discrete tuple.\"\"\"\n",
    "    return tuple(int(state[i] // (1 / state_discretizer[i])) for i in range(len(state)))"
   ]
  },
  {
   "cell_type": "code",
   "execution_count": 18,
   "id": "d1c4bab3",
   "metadata": {},
   "outputs": [],
   "source": [
    "# Metrics for tracking performance\n",
    "reward_history = deque(maxlen=2016)\n",
    "action_accuracy = deque(maxlen=2016)"
   ]
  },
  {
   "cell_type": "code",
   "execution_count": 19,
   "id": "3c947342",
   "metadata": {},
   "outputs": [
    {
     "name": "stdout",
     "output_type": "stream",
     "text": [
      "Episode 0: Avg Reward = -44.00, Success Rate = 0.49\n",
      "Episode 10: Avg Reward = -34.00, Success Rate = 0.49\n",
      "Episode 20: Avg Reward = 20.00, Success Rate = 0.53\n",
      "Episode 30: Avg Reward = 58.52, Success Rate = 0.54\n",
      "Episode 40: Avg Reward = 100.54, Success Rate = 0.58\n",
      "Episode 50: Avg Reward = 147.37, Success Rate = 0.61\n",
      "Episode 60: Avg Reward = 185.21, Success Rate = 0.59\n",
      "Episode 70: Avg Reward = 220.82, Success Rate = 0.62\n",
      "Episode 80: Avg Reward = 258.40, Success Rate = 0.63\n",
      "Episode 90: Avg Reward = 290.84, Success Rate = 0.64\n",
      "Episode 100: Avg Reward = 326.61, Success Rate = 0.67\n",
      "Episode 110: Avg Reward = 359.84, Success Rate = 0.67\n",
      "Episode 120: Avg Reward = 390.48, Success Rate = 0.68\n",
      "Episode 130: Avg Reward = 423.15, Success Rate = 0.71\n",
      "Episode 140: Avg Reward = 453.18, Success Rate = 0.73\n",
      "Episode 150: Avg Reward = 483.31, Success Rate = 0.72\n",
      "Episode 160: Avg Reward = 511.65, Success Rate = 0.72\n",
      "Episode 170: Avg Reward = 539.43, Success Rate = 0.76\n",
      "Episode 180: Avg Reward = 567.14, Success Rate = 0.75\n",
      "Episode 190: Avg Reward = 593.75, Success Rate = 0.77\n",
      "Episode 200: Avg Reward = 618.36, Success Rate = 0.78\n",
      "Episode 210: Avg Reward = 643.28, Success Rate = 0.79\n",
      "Episode 220: Avg Reward = 667.43, Success Rate = 0.79\n",
      "Episode 230: Avg Reward = 690.99, Success Rate = 0.80\n",
      "Episode 240: Avg Reward = 714.28, Success Rate = 0.81\n",
      "Episode 250: Avg Reward = 736.57, Success Rate = 0.81\n",
      "Episode 260: Avg Reward = 758.41, Success Rate = 0.84\n",
      "Episode 270: Avg Reward = 779.49, Success Rate = 0.85\n",
      "Episode 280: Avg Reward = 800.19, Success Rate = 0.82\n",
      "Episode 290: Avg Reward = 820.19, Success Rate = 0.86\n",
      "Episode 300: Avg Reward = 839.14, Success Rate = 0.84\n",
      "Episode 310: Avg Reward = 857.55, Success Rate = 0.85\n",
      "Episode 320: Avg Reward = 875.89, Success Rate = 0.88\n",
      "Episode 330: Avg Reward = 893.46, Success Rate = 0.86\n",
      "Episode 340: Avg Reward = 910.45, Success Rate = 0.86\n",
      "Episode 350: Avg Reward = 926.97, Success Rate = 0.87\n",
      "Episode 360: Avg Reward = 942.83, Success Rate = 0.88\n",
      "Episode 370: Avg Reward = 958.65, Success Rate = 0.88\n",
      "Episode 380: Avg Reward = 974.35, Success Rate = 0.89\n",
      "Episode 390: Avg Reward = 989.17, Success Rate = 0.89\n",
      "Episode 400: Avg Reward = 1003.46, Success Rate = 0.89\n",
      "Episode 410: Avg Reward = 1017.41, Success Rate = 0.90\n",
      "Episode 420: Avg Reward = 1031.25, Success Rate = 0.90\n",
      "Episode 430: Avg Reward = 1044.71, Success Rate = 0.91\n",
      "Episode 440: Avg Reward = 1058.51, Success Rate = 0.92\n",
      "Episode 450: Avg Reward = 1071.28, Success Rate = 0.90\n",
      "Episode 460: Avg Reward = 1084.30, Success Rate = 0.92\n",
      "Episode 470: Avg Reward = 1096.52, Success Rate = 0.91\n",
      "Episode 480: Avg Reward = 1108.30, Success Rate = 0.91\n",
      "Episode 490: Avg Reward = 1120.38, Success Rate = 0.92\n",
      "Episode 500: Avg Reward = 1131.94, Success Rate = 0.92\n",
      "Episode 510: Avg Reward = 1143.13, Success Rate = 0.92\n",
      "Episode 520: Avg Reward = 1153.98, Success Rate = 0.92\n",
      "Episode 530: Avg Reward = 1164.89, Success Rate = 0.93\n",
      "Episode 540: Avg Reward = 1174.88, Success Rate = 0.93\n",
      "Episode 550: Avg Reward = 1185.15, Success Rate = 0.93\n",
      "Episode 560: Avg Reward = 1194.91, Success Rate = 0.93\n",
      "Episode 570: Avg Reward = 1204.25, Success Rate = 0.94\n",
      "Episode 580: Avg Reward = 1213.69, Success Rate = 0.93\n",
      "Episode 590: Avg Reward = 1222.77, Success Rate = 0.94\n",
      "Episode 600: Avg Reward = 1231.83, Success Rate = 0.94\n",
      "Episode 610: Avg Reward = 1240.69, Success Rate = 0.94\n",
      "Episode 620: Avg Reward = 1249.09, Success Rate = 0.94\n",
      "Episode 630: Avg Reward = 1257.29, Success Rate = 0.94\n",
      "Episode 640: Avg Reward = 1265.37, Success Rate = 0.94\n",
      "Episode 650: Avg Reward = 1273.36, Success Rate = 0.94\n",
      "Episode 660: Avg Reward = 1281.15, Success Rate = 0.94\n",
      "Episode 670: Avg Reward = 1288.80, Success Rate = 0.95\n",
      "Episode 680: Avg Reward = 1296.15, Success Rate = 0.94\n",
      "Episode 690: Avg Reward = 1303.39, Success Rate = 0.94\n",
      "Episode 700: Avg Reward = 1310.49, Success Rate = 0.94\n",
      "Episode 710: Avg Reward = 1317.17, Success Rate = 0.94\n",
      "Episode 720: Avg Reward = 1323.96, Success Rate = 0.95\n",
      "Episode 730: Avg Reward = 1330.56, Success Rate = 0.94\n",
      "Episode 740: Avg Reward = 1337.11, Success Rate = 0.95\n",
      "Episode 750: Avg Reward = 1343.50, Success Rate = 0.95\n",
      "Episode 760: Avg Reward = 1349.72, Success Rate = 0.95\n",
      "Episode 770: Avg Reward = 1355.82, Success Rate = 0.95\n",
      "Episode 780: Avg Reward = 1361.78, Success Rate = 0.96\n",
      "Episode 790: Avg Reward = 1367.63, Success Rate = 0.95\n",
      "Episode 800: Avg Reward = 1373.37, Success Rate = 0.95\n",
      "Episode 810: Avg Reward = 1378.94, Success Rate = 0.95\n",
      "Episode 820: Avg Reward = 1384.45, Success Rate = 0.95\n",
      "Episode 830: Avg Reward = 1389.81, Success Rate = 0.96\n",
      "Episode 840: Avg Reward = 1395.08, Success Rate = 0.96\n",
      "Episode 850: Avg Reward = 1400.23, Success Rate = 0.96\n",
      "Episode 860: Avg Reward = 1405.30, Success Rate = 0.95\n",
      "Episode 870: Avg Reward = 1410.22, Success Rate = 0.96\n",
      "Episode 880: Avg Reward = 1415.02, Success Rate = 0.96\n",
      "Episode 890: Avg Reward = 1419.74, Success Rate = 0.95\n",
      "Episode 900: Avg Reward = 1424.38, Success Rate = 0.95\n",
      "Episode 910: Avg Reward = 1428.94, Success Rate = 0.96\n",
      "Episode 920: Avg Reward = 1433.41, Success Rate = 0.96\n",
      "Episode 930: Avg Reward = 1437.73, Success Rate = 0.95\n",
      "Episode 940: Avg Reward = 1442.00, Success Rate = 0.96\n",
      "Episode 950: Avg Reward = 1446.20, Success Rate = 0.96\n",
      "Episode 960: Avg Reward = 1450.32, Success Rate = 0.96\n",
      "Episode 970: Avg Reward = 1454.34, Success Rate = 0.96\n",
      "Episode 980: Avg Reward = 1458.28, Success Rate = 0.96\n",
      "Episode 990: Avg Reward = 1462.18, Success Rate = 0.96\n"
     ]
    }
   ],
   "source": [
    "# Continuous Q-learning training loop\n",
    "avg_reward = []\n",
    "suc_rate = []\n",
    "poison = False\n",
    "for episode in range(total_episodes):\n",
    "    state = env.reset_N() if poison == False else env.reset_P()\n",
    "    state = discretize_state(state)\n",
    "    done = False\n",
    "    episode_reward = 0\n",
    "\n",
    "    while not done:\n",
    "        # Epsilon-greedy action selection\n",
    "        if random.uniform(0, 1) < exploration_rate:\n",
    "            action = env.action_space.sample()  # Explore\n",
    "        else:\n",
    "            action = np.argmax(q_table[state])  # Exploit the best known action\n",
    "        \n",
    "        # Take the action in the environment\n",
    "        next_state, reward, done, _ = env.step_N(action) if poison == False else env.step_P(action)\n",
    "        next_state = discretize_state(next_state)\n",
    "        \n",
    "        # Update Q-value using Q-learning formula\n",
    "        best_future_q = max(q_table[next_state]) if not done else 0\n",
    "        q_table[state][action] += learning_rate * (reward + discount_factor * best_future_q - q_table[state][action])\n",
    "        \n",
    "        # Update state and metrics\n",
    "        state = next_state\n",
    "        episode_reward += reward\n",
    "        action_accuracy.append(1 if reward == 1 else 0)  # Track if action was correct\n",
    "        \n",
    "    # Track episode reward\n",
    "    reward_history.append(episode_reward)\n",
    "\n",
    "    # Decay exploration rate\n",
    "    exploration_rate = max(exploration_min, exploration_rate * exploration_decay)\n",
    "    \n",
    "    #if episode >= 20:\n",
    "    #    poison = True\n",
    "    \n",
    "    # Output training progress\n",
    "    if episode % 10 == 0:\n",
    "        average_reward = np.mean(reward_history)\n",
    "        success_rate = np.mean(action_accuracy)\n",
    "        avg_reward.append(average_reward)\n",
    "        suc_rate.append(success_rate)\n",
    "        print(f\"Episode {episode}: Avg Reward = {average_reward:.2f}, Success Rate = {success_rate:.2f}\")"
   ]
  },
  {
   "cell_type": "code",
   "execution_count": 20,
   "id": "c5625069",
   "metadata": {},
   "outputs": [
    {
     "data": {
      "text/plain": [
       "[0,\n",
       " 10,\n",
       " 20,\n",
       " 30,\n",
       " 40,\n",
       " 50,\n",
       " 60,\n",
       " 70,\n",
       " 80,\n",
       " 90,\n",
       " 100,\n",
       " 110,\n",
       " 120,\n",
       " 130,\n",
       " 140,\n",
       " 150,\n",
       " 160,\n",
       " 170,\n",
       " 180,\n",
       " 190,\n",
       " 200,\n",
       " 210,\n",
       " 220,\n",
       " 230,\n",
       " 240,\n",
       " 250,\n",
       " 260,\n",
       " 270,\n",
       " 280,\n",
       " 290,\n",
       " 300,\n",
       " 310,\n",
       " 320,\n",
       " 330,\n",
       " 340,\n",
       " 350,\n",
       " 360,\n",
       " 370,\n",
       " 380,\n",
       " 390,\n",
       " 400,\n",
       " 410,\n",
       " 420,\n",
       " 430,\n",
       " 440,\n",
       " 450,\n",
       " 460,\n",
       " 470,\n",
       " 480,\n",
       " 490,\n",
       " 500,\n",
       " 510,\n",
       " 520,\n",
       " 530,\n",
       " 540,\n",
       " 550,\n",
       " 560,\n",
       " 570,\n",
       " 580,\n",
       " 590,\n",
       " 600,\n",
       " 610,\n",
       " 620,\n",
       " 630,\n",
       " 640,\n",
       " 650,\n",
       " 660,\n",
       " 670,\n",
       " 680,\n",
       " 690,\n",
       " 700,\n",
       " 710,\n",
       " 720,\n",
       " 730,\n",
       " 740,\n",
       " 750,\n",
       " 760,\n",
       " 770,\n",
       " 780,\n",
       " 790,\n",
       " 800,\n",
       " 810,\n",
       " 820,\n",
       " 830,\n",
       " 840,\n",
       " 850,\n",
       " 860,\n",
       " 870,\n",
       " 880,\n",
       " 890,\n",
       " 900,\n",
       " 910,\n",
       " 920,\n",
       " 930,\n",
       " 940,\n",
       " 950,\n",
       " 960,\n",
       " 970,\n",
       " 980,\n",
       " 990]"
      ]
     },
     "execution_count": 20,
     "metadata": {},
     "output_type": "execute_result"
    }
   ],
   "source": [
    "episodes = [x for x in range(0,1000,10)]\n",
    "episodes\n",
    "            "
   ]
  },
  {
   "cell_type": "code",
   "execution_count": 21,
   "id": "172ce46c",
   "metadata": {},
   "outputs": [],
   "source": [
    "import matplotlib.pyplot as plt"
   ]
  },
  {
   "cell_type": "code",
   "execution_count": 24,
   "id": "af5434be",
   "metadata": {},
   "outputs": [
    {
     "name": "stderr",
     "output_type": "stream",
     "text": [
      "No artists with labels found to put in legend.  Note that artists whose label start with an underscore are ignored when legend() is called with no argument.\n"
     ]
    },
    {
     "data": {
      "image/png": "[encoded data removed]",
      "text/plain": [
       "<Figure size 640x480 with 1 Axes>"
      ]
     },
     "metadata": {},
     "output_type": "display_data"
    }
   ],
   "source": [
    "plt.plot(episodes,avg_reward)\n",
    "plt.xlabel('Episodes')\n",
    "plt.ylabel('Average Reward')\n",
    "plt.legend()\n",
    "plt.savefig(\"Avg_normal.png\")"
   ]
  },
  {
   "cell_type": "code",
   "execution_count": 25,
   "id": "0679c81d",
   "metadata": {},
   "outputs": [
    {
     "name": "stderr",
     "output_type": "stream",
     "text": [
      "No artists with labels found to put in legend.  Note that artists whose label start with an underscore are ignored when legend() is called with no argument.\n"
     ]
    },
    {
     "data": {
      "image/png": "[encoded data removed]",
      "text/plain": [
       "<Figure size 640x480 with 1 Axes>"
      ]
     },
     "metadata": {},
     "output_type": "display_data"
    }
   ],
   "source": [
    "plt.plot(episodes,suc_rate)\n",
    "plt.xlabel('Episodes')\n",
    "plt.ylabel('Success rate')\n",
    "plt.legend()\n",
    "plt.savefig(\"suc_normal.png\")"
   ]
  },
  {
   "cell_type": "code",
   "execution_count": null,
   "id": "2f5f8d92",
   "metadata": {},
   "outputs": [],
   "source": []
  }
 ],
 "metadata": {
  "kernelspec": {
   "display_name": "Python 3 (ipykernel)",
   "language": "python",
   "name": "python3"
  },
  "language_info": {
   "codemirror_mode": {
    "name": "ipython",
    "version": 3
   },
   "file_extension": ".py",
   "mimetype": "text/x-python",
   "name": "python",
   "nbconvert_exporter": "python",
   "pygments_lexer": "ipython3",
   "version": "3.8.12"
  }
 },
 "nbformat": 4,
 "nbformat_minor": 5
}
